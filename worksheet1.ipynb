{
  "nbformat": 4,
  "nbformat_minor": 0,
  "metadata": {
    "colab": {
      "provenance": []
    },
    "kernelspec": {
      "name": "python3",
      "display_name": "Python 3"
    },
    "language_info": {
      "name": "python"
    }
  },
  "cells": [
    {
      "cell_type": "markdown",
      "source": [
        "Problem 1"
      ],
      "metadata": {
        "id": "9ToSSvtqwpd0"
      }
    },
    {
      "cell_type": "code",
      "source": [
        "import numpy as np\n",
        "\n",
        "empty_array = np.empty((2, 2))\n",
        "print(\"1. Empty Array 2x2:\\n\", empty_array)\n",
        "\n",
        "ones_array = np.ones((4, 2))\n",
        "print(\"\\n2. Ones Array 4x2:\\n\", ones_array)\n",
        "\n",
        "filled_array = np.full((2, 3), 7)\n",
        "print(\"\\n3. Filled Array 2x3 with 7:\\n\", filled_array)\n",
        "\n",
        "shape_of_array = np.array([[1, 2, 3], [4, 5, 6]])\n",
        "zeros_like = np.zeros_like(shape_of_array)\n",
        "print(\"\\n4. Zeros Like Array:\\n\", zeros_like)\n",
        "\n",
        "ones_like = np.ones_like(shape_of_array)\n",
        "print(\"\\n5. Ones Like Array:\\n\", ones_like)\n",
        "\n",
        "new_list = [1, 2, 3, 4]\n",
        "array_from_list = np.array(new_list)\n",
        "print(\"\\n6. Array from List:\\n\", array_from_list)\n"
      ],
      "metadata": {
        "colab": {
          "base_uri": "https://localhost:8080/"
        },
        "collapsed": true,
        "id": "hoZRte9Iwq_L",
        "outputId": "735d38f9-b730-4c09-8f84-6ef5f65e653e"
      },
      "execution_count": 8,
      "outputs": [
        {
          "output_type": "stream",
          "name": "stdout",
          "text": [
            "1. Empty Array 2x2:\n",
            " [[1.14e-322 2.52e-322]\n",
            " [6.42e-323 1.43e-322]]\n",
            "\n",
            "2. Ones Array 4x2:\n",
            " [[1. 1.]\n",
            " [1. 1.]\n",
            " [1. 1.]\n",
            " [1. 1.]]\n",
            "\n",
            "3. Filled Array 2x3 with 7:\n",
            " [[7 7 7]\n",
            " [7 7 7]]\n",
            "\n",
            "4. Zeros Like Array:\n",
            " [[0 0 0]\n",
            " [0 0 0]]\n",
            "\n",
            "5. Ones Like Array:\n",
            " [[1 1 1]\n",
            " [1 1 1]]\n",
            "\n",
            "6. Array from List:\n",
            " [1 2 3 4]\n"
          ]
        }
      ]
    },
    {
      "cell_type": "markdown",
      "source": [
        "Problem 2"
      ],
      "metadata": {
        "id": "jJqAGHYcwt37"
      }
    },
    {
      "cell_type": "code",
      "source": [
        "range_array = np.arange(10, 50)\n",
        "print(\"\\n1. Array with values ranging from 10 to 49:\\n\", range_array)\n",
        "\n",
        "matrix_3x3 = np.arange(9).reshape(3, 3)\n",
        "print(\"\\n2. 3x3 Matrix with values ranging from 0 to 8:\\n\", matrix_3x3)\n",
        "\n",
        "identity_matrix = np.eye(3)\n",
        "print(\"\\n3. 3x3 Identity Matrix:\\n\", identity_matrix)\n",
        "\n",
        "random_array = np.random.random(30)\n",
        "mean_random_array = random_array.mean()\n",
        "print(\"\\n4. Mean of Random Array of size 30:\", mean_random_array)\n",
        "\n",
        "random_10x10 = np.random.random((10, 10))\n",
        "min_val = random_10x10.min()\n",
        "max_val = random_10x10.max()\n",
        "print(\"\\n5. Min and Max of 10x10 Random Array:\\nMin:\", min_val, \" Max:\", max_val)\n",
        "\n",
        "zero_array = np.zeros(10)\n",
        "zero_array[4] = 1\n",
        "print(\"\\n6. Zero Array with 5th element replaced by 1:\\n\", zero_array)\n",
        "\n",
        "arr = np.array([1, 2, 0, 0, 4, 0])\n",
        "reversed_arr = arr[::-1]\n",
        "print(\"\\n7. Reversed Array:\\n\", reversed_arr)\n",
        "\n",
        "border_array = np.ones((5, 5))\n",
        "border_array[1:-1, 1:-1] = 0\n",
        "print(\"\\n8. 2D Array with 1 on Border and 0 Inside:\\n\", border_array)\n",
        "\n",
        "checkerboard = np.zeros((8, 8), dtype=int)\n",
        "checkerboard[1::2, ::2] = 1\n",
        "checkerboard[::2, 1::2] = 1\n",
        "print(\"\\n9. 8x8 Checkerboard Pattern:\\n\", checkerboard)\n"
      ],
      "metadata": {
        "colab": {
          "base_uri": "https://localhost:8080/"
        },
        "collapsed": true,
        "id": "_MSPsAVJwxog",
        "outputId": "d6af7fe8-fb02-4fb8-a185-45fd69132af0"
      },
      "execution_count": 9,
      "outputs": [
        {
          "output_type": "stream",
          "name": "stdout",
          "text": [
            "\n",
            "1. Array with values ranging from 10 to 49:\n",
            " [10 11 12 13 14 15 16 17 18 19 20 21 22 23 24 25 26 27 28 29 30 31 32 33\n",
            " 34 35 36 37 38 39 40 41 42 43 44 45 46 47 48 49]\n",
            "\n",
            "2. 3x3 Matrix with values ranging from 0 to 8:\n",
            " [[0 1 2]\n",
            " [3 4 5]\n",
            " [6 7 8]]\n",
            "\n",
            "3. 3x3 Identity Matrix:\n",
            " [[1. 0. 0.]\n",
            " [0. 1. 0.]\n",
            " [0. 0. 1.]]\n",
            "\n",
            "4. Mean of Random Array of size 30: 0.5166541317556136\n",
            "\n",
            "5. Min and Max of 10x10 Random Array:\n",
            "Min: 0.004858133336815396  Max: 0.9994685081174653\n",
            "\n",
            "6. Zero Array with 5th element replaced by 1:\n",
            " [0. 0. 0. 0. 1. 0. 0. 0. 0. 0.]\n",
            "\n",
            "7. Reversed Array:\n",
            " [0 4 0 0 2 1]\n",
            "\n",
            "8. 2D Array with 1 on Border and 0 Inside:\n",
            " [[1. 1. 1. 1. 1.]\n",
            " [1. 0. 0. 0. 1.]\n",
            " [1. 0. 0. 0. 1.]\n",
            " [1. 0. 0. 0. 1.]\n",
            " [1. 1. 1. 1. 1.]]\n",
            "\n",
            "9. 8x8 Checkerboard Pattern:\n",
            " [[0 1 0 1 0 1 0 1]\n",
            " [1 0 1 0 1 0 1 0]\n",
            " [0 1 0 1 0 1 0 1]\n",
            " [1 0 1 0 1 0 1 0]\n",
            " [0 1 0 1 0 1 0 1]\n",
            " [1 0 1 0 1 0 1 0]\n",
            " [0 1 0 1 0 1 0 1]\n",
            " [1 0 1 0 1 0 1 0]]\n"
          ]
        }
      ]
    },
    {
      "cell_type": "markdown",
      "source": [
        "Problem 3"
      ],
      "metadata": {
        "id": "uAzMugqZw0ca"
      }
    },
    {
      "cell_type": "code",
      "source": [
        "x = np.array([[1, 2], [3, 5]])\n",
        "y = np.array([[5, 6], [7, 8]])\n",
        "v = np.array([9, 10])\n",
        "w = np.array([11, 12])\n",
        "\n",
        "array_add = np.add(x, y)\n",
        "print(\"\\n1. x + y:\\n\", array_add)\n",
        "\n",
        "array_subtract = np.subtract(x, y)\n",
        "print(\"\\n2. x - y:\\n\", array_subtract)\n",
        "\n",
        "array_multiply = x * 2\n",
        "print(\"\\n3. x multiplied by 2:\\n\", array_multiply)\n",
        "\n",
        "array_square = np.power(x, 2)\n",
        "print(\"\\n4. Square of each element in x:\\n\", array_square)\n",
        "\n",
        "dot_vw = np.dot(v, w)\n",
        "dot_xv = np.dot(x, v)\n",
        "dot_xy = np.dot(x, y)\n",
        "print(\"\\n5. Dot Product (v . w, x . v, x . y):\", dot_vw, dot_xv, dot_xy)\n",
        "\n",
        "concat_xy_row = np.concatenate((x, y), axis=0)\n",
        "concat_vw_col = np.concatenate((v[:, np.newaxis], w[:, np.newaxis]), axis=1)\n",
        "print(\"\\n6. Concatenate x and y along row:\\n\", concat_xy_row)\n",
        "print(\"\\nConcatenate v and w along column:\\n\", concat_vw_col)\n",
        "\n",
        "try:\n",
        "    concat_xv = np.concatenate((x, v), axis=1)\n",
        "except ValueError as e:\n",
        "    print(\"\\n7. Error when concatenating x and v:\", e)\n"
      ],
      "metadata": {
        "id": "NCSgTnU0w31j",
        "colab": {
          "base_uri": "https://localhost:8080/"
        },
        "outputId": "fa869a1b-8d0d-4480-a869-5dcc5fd1db6f"
      },
      "execution_count": 10,
      "outputs": [
        {
          "output_type": "stream",
          "name": "stdout",
          "text": [
            "\n",
            "1. x + y:\n",
            " [[ 6  8]\n",
            " [10 13]]\n",
            "\n",
            "2. x - y:\n",
            " [[-4 -4]\n",
            " [-4 -3]]\n",
            "\n",
            "3. x multiplied by 2:\n",
            " [[ 2  4]\n",
            " [ 6 10]]\n",
            "\n",
            "4. Square of each element in x:\n",
            " [[ 1  4]\n",
            " [ 9 25]]\n",
            "\n",
            "5. Dot Product (v . w, x . v, x . y): 219 [29 77] [[19 22]\n",
            " [50 58]]\n",
            "\n",
            "6. Concatenate x and y along row:\n",
            " [[1 2]\n",
            " [3 5]\n",
            " [5 6]\n",
            " [7 8]]\n",
            "\n",
            "Concatenate v and w along column:\n",
            " [[ 9 11]\n",
            " [10 12]]\n",
            "\n",
            "7. Error when concatenating x and v: all the input arrays must have same number of dimensions, but the array at index 0 has 2 dimension(s) and the array at index 1 has 1 dimension(s)\n"
          ]
        }
      ]
    },
    {
      "cell_type": "markdown",
      "source": [
        "Problem 4"
      ],
      "metadata": {
        "id": "UOWLP5j8w5kz"
      }
    },
    {
      "cell_type": "code",
      "source": [
        "A = np.array([[3, 4], [7, 8]])\n",
        "B = np.array([[5, 3], [2, 1]])\n",
        "\n",
        "A_inv = np.linalg.inv(A)\n",
        "identity = np.dot(A, A_inv)\n",
        "print(\"1. A * A^-1 = Identity Matrix:\\n\", identity)\n",
        "\n",
        "AB = np.dot(A, B)\n",
        "BA = np.dot(B, A)\n",
        "print(\"\\n2. Prove AB ≠ BA:\\nAB:\\n\", AB, \"\\nBA:\\n\", BA)\n",
        "\n",
        "transpose_AB = np.transpose(AB)\n",
        "transpose_BA = np.dot(np.transpose(B), np.transpose(A))\n",
        "print(\"\\n3. Prove (AB)^T = B^T * A^T:\\n(AB)^T:\\n\", transpose_AB, \"\\nB^T * A^T:\\n\", transpose_BA)\n",
        "\n",
        "A_matrix = np.array([[2, -3, 1], [1, -1, 2], [3, 1, -1]])\n",
        "B_matrix = np.array([-1, -3, 9])\n",
        "\n",
        "X = np.linalg.solve(A_matrix, B_matrix)\n",
        "print(\"\\nLinear Equation Solution (x, y, z):\", X)\n"
      ],
      "metadata": {
        "colab": {
          "base_uri": "https://localhost:8080/"
        },
        "id": "etPirqBYw7W6",
        "outputId": "37f83ce8-1dcb-4531-a763-992780bdca5d"
      },
      "execution_count": 11,
      "outputs": [
        {
          "output_type": "stream",
          "name": "stdout",
          "text": [
            "1. A * A^-1 = Identity Matrix:\n",
            " [[1.00000000e+00 0.00000000e+00]\n",
            " [1.77635684e-15 1.00000000e+00]]\n",
            "\n",
            "2. Prove AB ≠ BA:\n",
            "AB:\n",
            " [[23 13]\n",
            " [51 29]] \n",
            "BA:\n",
            " [[36 44]\n",
            " [13 16]]\n",
            "\n",
            "3. Prove (AB)^T = B^T * A^T:\n",
            "(AB)^T:\n",
            " [[23 51]\n",
            " [13 29]] \n",
            "B^T * A^T:\n",
            " [[23 51]\n",
            " [13 29]]\n",
            "\n",
            "Linear Equation Solution (x, y, z): [ 2.  1. -2.]\n"
          ]
        }
      ]
    }
  ]
}